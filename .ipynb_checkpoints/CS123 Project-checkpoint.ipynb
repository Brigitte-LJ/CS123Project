{
 "cells": [
  {
   "cell_type": "markdown",
   "id": "29ab46aa",
   "metadata": {
    "id": "29ab46aa"
   },
   "source": [
    "Part 1: String Comparisons!\n",
    "Hello dear user, are you unsure if your classes meet graduation requiments? Do you not trust your massive Google Sheet combined with your own intuition? Well we have the tutorial for you! This part will allow you to compare your classes to your requirements with computational accuracy, so you will no longer have to put all your trust into checking and double checking and triple checking the lists yourself!\n",
    "\n",
    "This first set of code is where we input what we want to compare. If you want to check a single semester, or all four years, it is up to you! For our example we will be using a single semester, as you can see all four years of classes gets quite unrul"
   ]
  },
  {
   "cell_type": "code",
   "execution_count": 155,
   "id": "8797e97d",
   "metadata": {
    "id": "8797e97d"
   },
   "outputs": [],
   "source": [
    "# at some point deal with CSV import of data but not yet!\n",
    "\n",
    "coursesToDo = []\n",
    "coursesDone  = []\n",
    "\n",
    "\n",
    "#example\n",
    "inputCourses = [\n",
    "    \"CSCI005\",\n",
    "    \"CSCI060\",\n",
    "    \"MATH019\",\n",
    "    \"WRIT001\",\n",
    "    \"PHYS023\",\n",
    "]\n",
    "\n",
    "#just an example, not extensive\n",
    "majorReqs = [\n",
    "    [\"CSCI042\", \"CSCI060\"],\n",
    "    [\"CSCI070\"],\n",
    "    [\"CSCI081\"],\n",
    "]\n",
    "\n",
    "#just an example, not extensive\n",
    "coreReqs = [\n",
    "    [\"MATH019\"],\n",
    "    [\"CSCI005\", \"CSCI042\"],\n",
    "    [\"PHYS023\"],\n",
    "    [\"CORE099\"],\n",
    "    [\"CHEM024\"],\n",
    "    [\"WRIT001\"]\n",
    "]\n",
    "\n",
    "#just an example, not extensive\n",
    "HSAReqs = [\n",
    "    [\"HSA10\"],\n",
    "    [\"WRIT001\"],\n",
    "    [\"HSABreadth\"],\n",
    "    [\"HSADepth\"],\n",
    "    [\"WritInt\"]\n",
    "]\n",
    "\n"
   ]
  },
  {
   "cell_type": "code",
   "execution_count": 121,
   "id": "f0757dda",
   "metadata": {
    "id": "f0757dda"
   },
   "outputs": [],
   "source": []
  },
  {
   "cell_type": "code",
   "execution_count": 185,
   "id": "3c4a9a40",
   "metadata": {},
   "outputs": [],
   "source": [
    "totalReqs = []\n",
    "def getTotalReqs(majorReqs, coreReqs, HSAReqs):\n",
    "    totalReqs.append(coreReqs)\n",
    "    totalReqs.append(majorReqs)\n",
    "    totalReqs.append(HSAReqs)\n",
    "\n",
    "#creating the total reqs\n",
    "getTotalReqs(majorReqs, coreReqs, HSAReqs)\n",
    "\n",
    "def checkReqsMet(inputList):\n",
    "    # inputList is a\n",
    "    # reqsList is a list of lists\n",
    "    for section in totalReqs:\n",
    "        for subset in section:\n",
    "            met = any(course in subset for course in inputList)\n",
    "            if met and not(subset in coursesDone):\n",
    "                coursesDone.append(subset)\n",
    "            if not(met) and not(subset in coursesToDo):\n",
    "                coursesToDo.append(subset)"
   ]
  },
  {
   "cell_type": "code",
   "execution_count": null,
   "id": "8bc26f87",
   "metadata": {},
   "outputs": [],
   "source": []
  },
  {
   "cell_type": "code",
   "execution_count": 186,
   "id": "818181b9",
   "metadata": {
    "id": "818181b9",
    "outputId": "b6ebc139-795c-47f1-ee9f-5d0902ffb083"
   },
   "outputs": [
    {
     "name": "stdout",
     "output_type": "stream",
     "text": [
      "Courses Done is [['MATH019'], ['CSCI005', 'CSCI042'], ['PHYS023'], ['WRIT001'], ['CSCI042', 'CSCI060']]\n",
      "Courses ToDo is [['CORE099'], ['CHEM024'], ['CSCI070'], ['CSCI081'], ['HSA10'], ['HSABreadth'], ['HSADepth'], ['WritInt']]\n",
      "Courses Done:\n",
      "['MATH019']\n",
      "['CSCI005', 'CSCI042']\n",
      "['PHYS023']\n",
      "['WRIT001']\n",
      "['CSCI042', 'CSCI060']\n",
      "Courses To Do:\n",
      "['CORE099']\n",
      "['CHEM024']\n",
      "['CSCI070']\n",
      "['CSCI081']\n",
      "['HSA10']\n",
      "['HSABreadth']\n",
      "['HSADepth']\n",
      "['WritInt']\n"
     ]
    }
   ],
   "source": [
    "coursesToDo = [] # emptied in case we rerun this cell\n",
    "coursesDone = [] # emptied in case we rerun this cell\n",
    "checkReqsMet(inputCourses)\n",
    "\n",
    "print(\"Courses Done is\", coursesDone)\n",
    "print(\"Courses ToDo is\", coursesToDo) #not pretty, so lets make it pretty\n",
    "\n",
    "#functions to allow for nice print out\n",
    "def printNice(inputList):\n",
    "    for i in inputList:\n",
    "        print(i)\n",
    "\n",
    "print(\"Courses Done:\") \n",
    "printNice(coursesDone)\n",
    "print(\"Courses To Do:\") \n",
    "printNice(coursesToDo)"
   ]
  },
  {
   "cell_type": "code",
   "execution_count": 180,
   "id": "327a32a2",
   "metadata": {},
   "outputs": [
    {
     "name": "stdout",
     "output_type": "stream",
     "text": [
      "HSA Reqs Met:\n",
      "['WRIT001']\n",
      "HSA Reqs Not Met:\n",
      "['HSA10']\n",
      "['HSABreadth']\n",
      "['HSADepth']\n",
      "['WritInt']\n",
      "Core Reqs Met:\n",
      "['MATH019']\n",
      "['CSCI005', 'CSCI042']\n",
      "['PHYS023']\n",
      "['WRIT001']\n",
      "Core Reqs Not Met:\n",
      "['CORE099']\n",
      "['CHEM024']\n",
      "Major Reqs Met:\n",
      "['CSCI042', 'CSCI060']\n",
      "Major Reqs Not Met:\n",
      "['CSCI070']\n",
      "['CSCI081']\n"
     ]
    }
   ],
   "source": [
    "#this doesn't give us much information about the courses still left to do\n",
    "#so lets add a filter to check major/core/HSA etc\n",
    "majorReqsDone =[]\n",
    "majorReqsToDo = []\n",
    "coreReqsDone = []\n",
    "coreReqsToDo = []\n",
    "HSAReqsDone = []\n",
    "HSAReqsToDo = []\n",
    "\n",
    "def filterReqs(inputList, areaFilter):\n",
    "    reqsList = []\n",
    "    toDoList = []\n",
    "    doneList = []\n",
    "    if areaFilter == \"Core\":\n",
    "        reqsList = coreReqs\n",
    "        toDoList = coreReqsToDo\n",
    "        doneList = coreReqsDone\n",
    "    if areaFilter == \"Major\":\n",
    "        reqsList = majorReqs\n",
    "        toDoList = majorReqsToDo\n",
    "        doneList = majorReqsDone\n",
    "    if areaFilter == \"HSA\":\n",
    "        reqsList = HSAReqs\n",
    "        toDoList = HSAReqsToDo\n",
    "        doneList = HSAReqsDone\n",
    "    for subset in reqsList:\n",
    "        met = any(course in subset for course in inputList)\n",
    "        if met and not(subset in doneList):\n",
    "                  doneList.append(subset)\n",
    "        if not(met) and not(subset in toDoList):\n",
    "                  toDoList.append(subset)\n",
    "\n",
    "\n",
    "#applying the filters\n",
    "filterReqs(inputCourses, \"HSA\")\n",
    "filterReqs(inputCourses, \"Core\")\n",
    "filterReqs(inputCourses, \"Major\")\n",
    "\n",
    "print(\"HSA Reqs Met:\")\n",
    "printNice(HSAReqsDone)\n",
    "print(\"HSA Reqs Not Met:\")\n",
    "printNice(HSAReqsToDo)\n",
    "print(\"Core Reqs Met:\")\n",
    "printNice(coreReqsDone)\n",
    "print(\"Core Reqs Not Met:\")\n",
    "printNice(coreReqsToDo)\n",
    "print(\"Major Reqs Met:\")\n",
    "printNice(majorReqsDone)\n",
    "print(\"Major Reqs Not Met:\")\n",
    "printNice(majorReqsToDo)\n"
   ]
  }
 ],
 "metadata": {
  "colab": {
   "provenance": []
  },
  "kernelspec": {
   "display_name": "Python 3 (ipykernel)",
   "language": "python",
   "name": "python3"
  },
  "language_info": {
   "codemirror_mode": {
    "name": "ipython",
    "version": 3
   },
   "file_extension": ".py",
   "mimetype": "text/x-python",
   "name": "python",
   "nbconvert_exporter": "python",
   "pygments_lexer": "ipython3",
   "version": "3.8.8"
  }
 },
 "nbformat": 4,
 "nbformat_minor": 5
}
