{
  "cells": [
    {
      "cell_type": "markdown",
      "source": [
        "# Welcome to the Graduation Requirements Checklist Tutorial!\n",
        "\n",
        "Alex Silver, Brigitte Lynch Johnson, Nina Luo\n"
      ],
      "metadata": {
        "id": "DFJ-51jNyF-6"
      },
      "id": "DFJ-51jNyF-6"
    },
    {
      "cell_type": "markdown",
      "source": [
        "Audience: `Mudders/5C students/College Students`\n",
        "\n",
        "Use case: `Walk-through`\n",
        "\n",
        "Difficulty: `Beginner to Intermediate. Assumes users have taken CS5.`\n",
        "\n",
        "Completion time: `TBD`\n"
      ],
      "metadata": {
        "id": "wSiGfUHu17I0"
      },
      "id": "wSiGfUHu17I0"
    },
    {
      "cell_type": "markdown",
      "source": [
        "Learning Objectives: `TBD`"
      ],
      "metadata": {
        "id": "TvEYb_9r3IUi"
      },
      "id": "TvEYb_9r3IUi"
    },
    {
      "cell_type": "markdown",
      "id": "29ab46aa",
      "metadata": {
        "id": "29ab46aa"
      },
      "source": [

        "**Part 1: String Comparisons!**\n",
        "Hello dear user, are you unsure if your classes meet graduation requirements? Do you not trust your massive Google Sheet combined with your own intuition? Well we have the tutorial for you! This part will allow you to compare your classes to your requirements with computational accuracy, so you will no longer have to put all your trust into checking and double checking and triple checking the lists yourself!\n",
        "\n",
        "\n",
        "\n",
        "*   This tutorial is organized into 4 parts, each improving upon the central idea of building a grad. requirements checker.\n",
        "*   We will show you how to download files from github, upload files into google colab, load json files into python lists, ..\n",
        "\n",
        "\n",
        "\n",
        "\n",
        "This first set of code is where we input what we want to compare. If you want to check a single semester, or all four years, it is up to you! For our example we will be using a single semester, as you can see all four years of classes gets quite unruly."
      ]
    },
    {
      "cell_type": "markdown",
      "source": [
        "A super confusing part of course requirements is HSAs... A Mudder needs to fulfill their Breadth, Depth, and Mudd Humanities requirements in order to graduate. Part of our goal is to check whether we've satisfied those requirements. However, we must first start with knowing what each course's area is in order to make comparisons. Below is the function filterByArea, which will help us by returning a list of all courses under a given area."
      ],
      "metadata": {
        "id": "eBgbM1Vlvc95"
      },
      "id": "eBgbM1Vlvc95"
    },
    {
      "cell_type": "code",
      "execution_count": 45,
      "id": "8797e97d",
      "metadata": {
        "id": "8797e97d"
      },
      "outputs": [],
      "source": [
        "import csv\n",
        "\n",
        "numTechElectives = 3 # how many tech electives are required?\n",
        "majorCSVpath = \"/content/CS_Major_Requirements\""
      ]
    },
    {
      "cell_type": "code",
      "source": [
        "def csvToLoL(csvpath):\n",
        "  \"\"\" input: file path to a CSV of course requirements, CSV formatted as shown below\n",
        "              major\ttechel\tcoursecode\tsublist\n",
        "              CSCI  n       CSCI070     2\n",
        "              CSCI  y       MATH164     3\n",
        "\n",
        "      output: a list of lists, such that one course in each sublist must be taken\n",
        "            example: [[\"CSCI042, \"CSCI060\"], [\"CSCI070]]]\n",
        "            indicates requirement of (CS 42 OR CS 60) AND CS 70\n",
        "  \"\"\"\n",
        "  reqs = []\n",
        "  with open(csvpath) as f:\n",
        "    reader = csv.reader(f)\n",
        "    next(reader)\n",
        "    i=0\n",
        "    nonTechElectives = []\n",
        "    techElectives = []\n",
        "    for row in reader:\n",
        "      coursecode = row[2]\n",
        "      if row[1] == \"y\": # tech elective case\n",
        "        techElectives.append(coursecode)\n",
        "      else:\n",
        "        if int(row[-1])==i: # our CSV data is a string, and \"0\" =/= 0\n",
        "          nonTechElectives.append(coursecode)\n",
        "        else:\n",
        "          reqs.append(nonTechElectives)\n",
        "          nonTechElectives = []\n",
        "          nonTechElectives.append(coursecode)\n",
        "          i += 1\n",
        "    for i in range(numTechElectives):\n",
        "      reqs.append(techElectives) # deal with Tech Electives last\n",
        "    return reqs\n"
      ],
      "metadata": {
        "id": "U1O3wiE8x_YO"
      },
      "id": "U1O3wiE8x_YO",
      "execution_count": 46,
      "outputs": []
    },
    {
      "cell_type": "code",
      "source": [
        "majorReqs = csvToLoL(majorCSVpath)"
      ],
      "metadata": {
        "id": "L8pQZcyl5JGC",
        "outputId": "7a2a7594-fc5d-4f49-eb7b-acdafa3aea73",
        
        "colab": {
          "base_uri": "https://localhost:8080/"
        },
        "collapsed": true,
        "id": "EWhuLKqCjHwi",
        "outputId": "793c2186-6d8c-4f38-8299-d793c7b19742"
      },
      "id": "L8pQZcyl5JGC",
      "execution_count": 47,
      "outputs": [
        {
          "output_type": "stream",
          "name": "stdout",
          "text": [
            "[['CSCI042', 'CSCI060'], ['MATH055'], ['CSCI070'], ['CSCI081'], ['CSCI105'], ['CSCI123'], ['CSCI140'], ['CSCI183'], ['CSCI184'], ['CSCI195'], ['CSCI195'], ['CSCI195'], ['BIOL188', 'ENGR085', 'ENGR151', 'ENGR155', 'ENGR205', 'MATH104', 'MATH106', 'MATH157', 'MATH164', 'MATH165', 'MATH167', 'MATH187', 'MCBI118', 'PHYS084', 'PHYS170', 'PSYC183', 'CSCI111', 'CSCI121', 'CSCI124', 'CSCI125', 'CSCI131', 'CSCI132', 'CSCI133', 'CSCI134', 'CSCI137', 'CSCI142', 'CSCI144', 'CSCI145', 'CSCI151', 'CSCI152', 'CSCI153', 'CSCI155', 'CSCI158', 'CSCI159'], ['BIOL188', 'ENGR085', 'ENGR151', 'ENGR155', 'ENGR205', 'MATH104', 'MATH106', 'MATH157', 'MATH164', 'MATH165', 'MATH167', 'MATH187', 'MCBI118', 'PHYS084', 'PHYS170', 'PSYC183', 'CSCI111', 'CSCI121', 'CSCI124', 'CSCI125', 'CSCI131', 'CSCI132', 'CSCI133', 'CSCI134', 'CSCI137', 'CSCI142', 'CSCI144', 'CSCI145', 'CSCI151', 'CSCI152', 'CSCI153', 'CSCI155', 'CSCI158', 'CSCI159'], ['BIOL188', 'ENGR085', 'ENGR151', 'ENGR155', 'ENGR205', 'MATH104', 'MATH106', 'MATH157', 'MATH164', 'MATH165', 'MATH167', 'MATH187', 'MCBI118', 'PHYS084', 'PHYS170', 'PSYC183', 'CSCI111', 'CSCI121', 'CSCI124', 'CSCI125', 'CSCI131', 'CSCI132', 'CSCI133', 'CSCI134', 'CSCI137', 'CSCI142', 'CSCI144', 'CSCI145', 'CSCI151', 'CSCI152', 'CSCI153', 'CSCI155', 'CSCI158', 'CSCI159']]\n"
          ]
        }
      ]
    },
    {
      "cell_type": "code",
      "source": [
        "coursesToDo = []\n",
        "coursesDone = []\n",
        "\n",
        "inputCourses = [\n",
        "    \"CSCI005\",\n",
        "    \"CSCI060\",\n",
        "    \"MATH019\"\n",
        "]"
      ],
      "metadata": {
        "id": "LqKuCxjevJPj"
      },
      "id": "LqKuCxjevJPj",
      "execution_count": 36,
      "outputs": []
    },
    {
      "cell_type": "code",
      "execution_count": 37,
      "id": "f0757dda",
      "metadata": {
        "id": "f0757dda"
      },
      "outputs": [],
      "source": [
        "def checkReqsMet(inputList, reqsList):\n",
        "    # inputList is a flat list\n",
        "    # reqsList is a list of lists\n",
        "    for subset in reqsList:\n",
        "        met = any(course in subset for course in inputList)\n",
        "        if met:\n",
        "            coursesDone.append(subset)\n",
        "        else:\n",
        "            coursesToDo.append(subset)"
      ]
    },
    {
      "cell_type": "code",
      "execution_count": 38,
      "id": "818181b9",
      "metadata": {
        "colab": {
          "base_uri": "https://localhost:8080/"
        },
        "id": "818181b9",
        "outputId": "741af2e8-e196-48da-d81f-6ba89f5dd32e"
      },
      "outputs": [
        {
          "output_type": "stream",
          "name": "stdout",
          "text": [
            "Courses Done is [['CSCI042', 'CSCI060']]\n",
            "Courses ToDo is [['MATH055'], ['CSCI070'], ['CSCI081'], ['CSCI105'], ['CSCI123'], ['CSCI140'], ['CSCI183'], ['CSCI184'], ['CSCI195'], ['CSCI195'], ['CSCI195'], ['BIOL188', 'ENGR085', 'ENGR151', 'ENGR155', 'ENGR205', 'MATH104', 'MATH106', 'MATH157', 'MATH164', 'MATH165', 'MATH167', 'MATH187', 'MCBI118', 'PHYS084', 'PHYS170', 'PSYC183', 'CSCI111', 'CSCI121', 'CSCI124', 'CSCI125', 'CSCI131', 'CSCI132', 'CSCI133', 'CSCI134', 'CSCI137', 'CSCI142', 'CSCI144', 'CSCI145', 'CSCI151', 'CSCI152', 'CSCI153', 'CSCI155', 'CSCI158', 'CSCI159'], ['BIOL188', 'ENGR085', 'ENGR151', 'ENGR155', 'ENGR205', 'MATH104', 'MATH106', 'MATH157', 'MATH164', 'MATH165', 'MATH167', 'MATH187', 'MCBI118', 'PHYS084', 'PHYS170', 'PSYC183', 'CSCI111', 'CSCI121', 'CSCI124', 'CSCI125', 'CSCI131', 'CSCI132', 'CSCI133', 'CSCI134', 'CSCI137', 'CSCI142', 'CSCI144', 'CSCI145', 'CSCI151', 'CSCI152', 'CSCI153', 'CSCI155', 'CSCI158', 'CSCI159'], ['BIOL188', 'ENGR085', 'ENGR151', 'ENGR155', 'ENGR205', 'MATH104', 'MATH106', 'MATH157', 'MATH164', 'MATH165', 'MATH167', 'MATH187', 'MCBI118', 'PHYS084', 'PHYS170', 'PSYC183', 'CSCI111', 'CSCI121', 'CSCI124', 'CSCI125', 'CSCI131', 'CSCI132', 'CSCI133', 'CSCI134', 'CSCI137', 'CSCI142', 'CSCI144', 'CSCI145', 'CSCI151', 'CSCI152', 'CSCI153', 'CSCI155', 'CSCI158', 'CSCI159']]\n"
          ]
        }
      ],
      "source": [
        "coursesToDo = [] # emptied in case we rerun this cell\n",
        "coursesDone = [] # emptied in case we rerun this cell\n",
        "checkReqsMet(inputCourses, majorReqs)\n",
        "\n",
        "print(\"Courses Done is\", coursesDone)\n",
        "print(\"Courses ToDo is\", coursesToDo)"
      ]
    }
  ],
  "metadata": {
    "kernelspec": {
      "display_name": "Python 3 (ipykernel)",
      "language": "python",
      "name": "python3"
    },
    "language_info": {
      "codemirror_mode": {
        "name": "ipython",
        "version": 3
      },
      "file_extension": ".py",
      "mimetype": "text/x-python",
      "name": "python",
      "nbconvert_exporter": "python",
      "pygments_lexer": "ipython3",
      "version": "3.8.8"
    },
    "colab": {
      "provenance": []
    }
  },
  {
   "cell_type": "code",
   "execution_count": 155,
   "id": "8797e97d",
   "metadata": {
    "id": "8797e97d"
   },
   "outputs": [],
   "source": [
    "# at some point deal with CSV import of data but not yet!\n",
    "\n",
    "coursesToDo = []\n",
    "coursesDone  = []\n",
    "\n",
    "\n",
    "#example\n",
    "inputCourses = [\n",
    "    \"CSCI005\",\n",
    "    \"CSCI060\",\n",
    "    \"MATH019\",\n",
    "    \"WRIT001\",\n",
    "    \"PHYS023\",\n",
    "]\n",
    "\n",
    "#just an example, not extensive\n",
    "majorReqs = [\n",
    "    [\"CSCI042\", \"CSCI060\"],\n",
    "    [\"CSCI070\"],\n",
    "    [\"CSCI081\"],\n",
    "]\n",
    "\n",
    "#just an example, not extensive\n",
    "coreReqs = [\n",
    "    [\"MATH019\"],\n",
    "    [\"CSCI005\", \"CSCI042\"],\n",
    "    [\"PHYS023\"],\n",
    "    [\"CORE099\"],\n",
    "    [\"CHEM024\"],\n",
    "    [\"WRIT001\"]\n",
    "]\n",
    "\n",
    "#just an example, not extensive\n",
    "HSAReqs = [\n",
    "    [\"HSA10\"],\n",
    "    [\"WRIT001\"],\n",
    "    [\"HSABreadth\"],\n",
    "    [\"HSADepth\"],\n",
    "    [\"WritInt\"]\n",
    "]\n",
    "\n"
   ]
  },
  {
   "cell_type": "code",
   "execution_count": 121,
   "id": "f0757dda",
   "metadata": {
    "id": "f0757dda"
   },
   "outputs": [],
   "source": []
  },
  {
   "cell_type": "code",
   "execution_count": 185,
   "id": "3c4a9a40",
   "metadata": {},
   "outputs": [],
   "source": [
    "totalReqs = []\n",
    "def getTotalReqs(majorReqs, coreReqs, HSAReqs):\n",
    "    totalReqs.append(coreReqs)\n",
    "    totalReqs.append(majorReqs)\n",
    "    totalReqs.append(HSAReqs)\n",
    "\n",
    "#creating the total reqs\n",
    "getTotalReqs(majorReqs, coreReqs, HSAReqs)\n",
    "\n",
    "def checkReqsMet(inputList):\n",
    "    # inputList is a\n",
    "    # reqsList is a list of lists\n",
    "    for section in totalReqs:\n",
    "        for subset in section:\n",
    "            met = any(course in subset for course in inputList)\n",
    "            if met and not(subset in coursesDone):\n",
    "                coursesDone.append(subset)\n",
    "            if not(met) and not(subset in coursesToDo):\n",
    "                coursesToDo.append(subset)"
   ]
  },
  {
   "cell_type": "code",
   "execution_count": null,
   "id": "8bc26f87",
   "metadata": {},
   "outputs": [],
   "source": []
  },
  {
   "cell_type": "code",
   "execution_count": 186,
   "id": "818181b9",
   "metadata": {
    "id": "818181b9",
    "outputId": "b6ebc139-795c-47f1-ee9f-5d0902ffb083"
   },
   "outputs": [
    {
     "name": "stdout",
     "output_type": "stream",
     "text": [
      "Courses Done is [['MATH019'], ['CSCI005', 'CSCI042'], ['PHYS023'], ['WRIT001'], ['CSCI042', 'CSCI060']]\n",
      "Courses ToDo is [['CORE099'], ['CHEM024'], ['CSCI070'], ['CSCI081'], ['HSA10'], ['HSABreadth'], ['HSADepth'], ['WritInt']]\n",
      "Courses Done:\n",
      "['MATH019']\n",
      "['CSCI005', 'CSCI042']\n",
      "['PHYS023']\n",
      "['WRIT001']\n",
      "['CSCI042', 'CSCI060']\n",
      "Courses To Do:\n",
      "['CORE099']\n",
      "['CHEM024']\n",
      "['CSCI070']\n",
      "['CSCI081']\n",
      "['HSA10']\n",
      "['HSABreadth']\n",
      "['HSADepth']\n",
      "['WritInt']\n"
     ]
    }
   ],
   "source": [
    "coursesToDo = [] # emptied in case we rerun this cell\n",
    "coursesDone = [] # emptied in case we rerun this cell\n",
    "checkReqsMet(inputCourses)\n",
    "\n",
    "print(\"Courses Done is\", coursesDone)\n",
    "print(\"Courses ToDo is\", coursesToDo) #not pretty, so lets make it pretty\n",
    "\n",
    "#functions to allow for nice print out\n",
    "def printNice(inputList):\n",
    "    for i in inputList:\n",
    "        print(i)\n",
    "\n",
    "print(\"Courses Done:\") \n",
    "printNice(coursesDone)\n",
    "print(\"Courses To Do:\") \n",
    "printNice(coursesToDo)"
   ]
  },
  {
   "cell_type": "code",
   "execution_count": 180,
   "id": "327a32a2",
   "metadata": {},
   "outputs": [
    {
     "name": "stdout",
     "output_type": "stream",
     "text": [
      "HSA Reqs Met:\n",
      "['WRIT001']\n",
      "HSA Reqs Not Met:\n",
      "['HSA10']\n",
      "['HSABreadth']\n",
      "['HSADepth']\n",
      "['WritInt']\n",
      "Core Reqs Met:\n",
      "['MATH019']\n",
      "['CSCI005', 'CSCI042']\n",
      "['PHYS023']\n",
      "['WRIT001']\n",
      "Core Reqs Not Met:\n",
      "['CORE099']\n",
      "['CHEM024']\n",
      "Major Reqs Met:\n",
      "['CSCI042', 'CSCI060']\n",
      "Major Reqs Not Met:\n",
      "['CSCI070']\n",
      "['CSCI081']\n"
     ]
    }
   ],
   "source": [
    "#this doesn't give us much information about the courses still left to do\n",
    "#so lets add a filter to check major/core/HSA etc\n",
    "majorReqsDone =[]\n",
    "majorReqsToDo = []\n",
    "coreReqsDone = []\n",
    "coreReqsToDo = []\n",
    "HSAReqsDone = []\n",
    "HSAReqsToDo = []\n",
    "\n",
    "def filterReqs(inputList, areaFilter):\n",
    "    reqsList = []\n",
    "    toDoList = []\n",
    "    doneList = []\n",
    "    if areaFilter == \"Core\":\n",
    "        reqsList = coreReqs\n",
    "        toDoList = coreReqsToDo\n",
    "        doneList = coreReqsDone\n",
    "    if areaFilter == \"Major\":\n",
    "        reqsList = majorReqs\n",
    "        toDoList = majorReqsToDo\n",
    "        doneList = majorReqsDone\n",
    "    if areaFilter == \"HSA\":\n",
    "        reqsList = HSAReqs\n",
    "        toDoList = HSAReqsToDo\n",
    "        doneList = HSAReqsDone\n",
    "    for subset in reqsList:\n",
    "        met = any(course in subset for course in inputList)\n",
    "        if met and not(subset in doneList):\n",
    "                  doneList.append(subset)\n",
    "        if not(met) and not(subset in toDoList):\n",
    "                  toDoList.append(subset)\n",
    "\n",
    "\n",
    "#applying the filters\n",
    "filterReqs(inputCourses, \"HSA\")\n",
    "filterReqs(inputCourses, \"Core\")\n",
    "filterReqs(inputCourses, \"Major\")\n",
    "\n",
    "print(\"HSA Reqs Met:\")\n",
    "printNice(HSAReqsDone)\n",
    "print(\"HSA Reqs Not Met:\")\n",
    "printNice(HSAReqsToDo)\n",
    "print(\"Core Reqs Met:\")\n",
    "printNice(coreReqsDone)\n",
    "print(\"Core Reqs Not Met:\")\n",
    "printNice(coreReqsToDo)\n",
    "print(\"Major Reqs Met:\")\n",
    "printNice(majorReqsDone)\n",
    "print(\"Major Reqs Not Met:\")\n",
    "printNice(majorReqsToDo)\n"
   ]
  }
 ],
 "metadata": {
  "colab": {
   "provenance": []
  },
  "kernelspec": {
   "display_name": "Python 3 (ipykernel)",
   "language": "python",
   "name": "python3"
  },
  "language_info": {
   "codemirror_mode": {
    "name": "ipython",
    "version": 3
   },
   "file_extension": ".py",
   "mimetype": "text/x-python",
   "name": "python",
   "nbconvert_exporter": "python",
   "pygments_lexer": "ipython3",
   "version": "3.8.8"
  }
 },
 "nbformat": 4,
 "nbformat_minor": 5
}
