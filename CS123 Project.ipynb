{
  "cells": [
    {
      "cell_type": "markdown",
      "source": [
        "# Welcome to the Graduation Requirements Checklist Tutorial!\n",
        "\n",
        "Alex Silver, Brigitte Lynch Johnson, Nina Luo\n"
      ],
      "metadata": {
        "id": "DFJ-51jNyF-6"
      },
      "id": "DFJ-51jNyF-6"
    },
    {
      "cell_type": "markdown",
      "id": "29ab46aa",
      "metadata": {
        "id": "29ab46aa"
      },
      "source": [
        "**Part 1: String Comparisons!**\n",
        "Hello dear user, are you unsure if your classes meet graduation requirements? Do you not trust your massive Google Sheet combined with your own intuition? Well we have the tutorial for you! This part will allow you to compare your classes to your requirements with computational accuracy, so you will no longer have to put all your trust into checking and double checking and triple checking the lists yourself!\n",
        "\n",
        "\n",
        "\n",
        "*   This tutorial is organized into 4 parts, each improving upon the central idea of building a grad. requirements checker.\n",
        "*   We will show you how to download files from github, upload files into google colab, load json files into python lists, ..\n",
        "\n",
        "\n",
        "\n",
        "\n",
        "This first set of code is where we input what we want to compare. If you want to check a single semester, or all four years, it is up to you! For our example we will be using a single semester, as you can see all four years of classes gets quite unruly."
      ]
    },
    {
      "cell_type": "markdown",
      "source": [
        "A super confusing part of course requirements is HSAs... A Mudder needs to fulfill their Breadth, Depth, and Mudd Humanities requirements in order to graduate. Part of our goal is to check whether we've satisfied those requirements. However, we must first start with knowing what each course's area is in order to make comparisons. Below is the function filterByArea, which will help us by returning a list of all courses under a given area."
      ],
      "metadata": {
        "id": "eBgbM1Vlvc95"
      },
      "id": "eBgbM1Vlvc95"
    },
    {
      "cell_type": "code",
      "source": [
        "# filtering by course area returns a list of course codes.\n",
        "import json\n",
        "\n",
        "def filterByArea(area):\n",
        "  with open(\"course-area.json\", 'r') as file: # Open the JSON file\n",
        "      course_data = json.load(file)  # Load the JSON data from the file into list\n",
        "\n",
        "  output = []\n",
        "  for course in course_data:  # Print all courses that have the attribute of area\n",
        "    if area in set(course[\"course_areas\"]):\n",
        "      courseOnly = course[\"course_code\"][:-2].strip() # Remove two-lettered campus signature, remove whitespaces\n",
        "      output.append(courseOnly) # add course into final list\n",
        "  return output # return list of all courses in parameter area.\n",
        "\n",
        "\n",
        "filterByArea(\"CSCI\")"
      ],
      "metadata": {
        "colab": {
          "base_uri": "https://localhost:8080/"
        },
        "collapsed": true,
        "id": "EWhuLKqCjHwi",
        "outputId": "793c2186-6d8c-4f38-8299-d793c7b19742"
      },
      "id": "EWhuLKqCjHwi",
      "execution_count": 25,
      "outputs": [
        {
          "output_type": "execute_result",
          "data": {
            "text/plain": [
              "['COGS123L',\n",
              " 'CSCI004',\n",
              " 'CSCI005',\n",
              " 'CSCI005GR',\n",
              " 'CSCI005L',\n",
              " 'CSCI009',\n",
              " 'CSCI022',\n",
              " 'CSCI030',\n",
              " 'CSCI030 L',\n",
              " 'CSCI035',\n",
              " 'CSCI036',\n",
              " 'CSCI036',\n",
              " 'CSCI036P',\n",
              " 'CSCI040',\n",
              " 'CSCI042',\n",
              " 'CSCI045',\n",
              " 'CSCI046',\n",
              " 'CSCI046L',\n",
              " 'CSCI048',\n",
              " 'CSCI049',\n",
              " 'CSCI049A',\n",
              " 'CSCI049B',\n",
              " 'CSCI049C',\n",
              " 'CSCI049D',\n",
              " 'CSCI049E',\n",
              " 'CSCI051',\n",
              " 'CSCI051A',\n",
              " 'CSCI051AL',\n",
              " 'CSCI051G',\n",
              " 'CSCI051GL',\n",
              " 'CSCI051J',\n",
              " 'CSCI051P',\n",
              " 'CSCI051PL',\n",
              " 'CSCI052',\n",
              " 'CSCI052',\n",
              " 'CSCI054',\n",
              " 'CSCI055',\n",
              " 'CSCI055',\n",
              " 'CSCI056',\n",
              " 'CSCI060',\n",
              " 'CSCI062',\n",
              " 'CSCI062',\n",
              " 'CSCI062 L',\n",
              " 'CSCI070',\n",
              " 'CSCI070L',\n",
              " 'CSCI081',\n",
              " 'CSCI081',\n",
              " 'CSCI101',\n",
              " 'CSCI105',\n",
              " 'CSCI105',\n",
              " 'CSCI105',\n",
              " 'CSCI105 L',\n",
              " 'CSCI105L',\n",
              " 'CSCI105L',\n",
              " 'CSCI111',\n",
              " 'CSCI121',\n",
              " 'CSCI123',\n",
              " 'CSCI124',\n",
              " 'CSCI124',\n",
              " 'CSCI125',\n",
              " 'CSCI131',\n",
              " 'CSCI131',\n",
              " 'CSCI132',\n",
              " 'CSCI133',\n",
              " 'CSCI133',\n",
              " 'CSCI133',\n",
              " 'CSCI134',\n",
              " 'CSCI134',\n",
              " 'CSCI135',\n",
              " 'CSCI136',\n",
              " 'CSCI137',\n",
              " 'CSCI140',\n",
              " 'CSCI140',\n",
              " 'CSCI142',\n",
              " 'CSCI143',\n",
              " 'CSCI143',\n",
              " 'CSCI144',\n",
              " 'CSCI145',\n",
              " 'CSCI145',\n",
              " 'CSCI148',\n",
              " 'CSCI151',\n",
              " 'CSCI151',\n",
              " 'CSCI152',\n",
              " 'CSCI152',\n",
              " 'CSCI153',\n",
              " 'CSCI155',\n",
              " 'CSCI155',\n",
              " 'CSCI158',\n",
              " 'CSCI158',\n",
              " 'CSCI158',\n",
              " 'CSCI159',\n",
              " 'CSCI159',\n",
              " 'CSCI181',\n",
              " 'CSCI181',\n",
              " 'CSCI181A',\n",
              " 'CSCI181A',\n",
              " 'CSCI181AA',\n",
              " 'CSCI181AB',\n",
              " 'CSCI181AC',\n",
              " 'CSCI181AD',\n",
              " 'CSCI181AE',\n",
              " 'CSCI181AF',\n",
              " 'CSCI181AG',\n",
              " 'CSCI181AH',\n",
              " 'CSCI181AI',\n",
              " 'CSCI181AJ',\n",
              " 'CSCI181AL',\n",
              " 'CSCI181AM',\n",
              " 'CSCI181AN',\n",
              " 'CSCI181AO',\n",
              " 'CSCI181AP',\n",
              " 'CSCI181D',\n",
              " 'CSCI181D',\n",
              " 'CSCI181DT',\n",
              " 'CSCI181E',\n",
              " 'CSCI181F',\n",
              " 'CSCI181G',\n",
              " 'CSCI181G',\n",
              " 'CSCI181H',\n",
              " 'CSCI181J',\n",
              " 'CSCI181L',\n",
              " 'CSCI181N',\n",
              " 'CSCI181N',\n",
              " 'CSCI181O',\n",
              " 'CSCI181O',\n",
              " 'CSCI181OR',\n",
              " 'CSCI181P',\n",
              " 'CSCI181P',\n",
              " 'CSCI181Q',\n",
              " 'CSCI181Q',\n",
              " 'CSCI181R',\n",
              " 'CSCI181R',\n",
              " 'CSCI181R',\n",
              " 'CSCI181S',\n",
              " 'CSCI181SL',\n",
              " 'CSCI181SY',\n",
              " 'CSCI181T',\n",
              " 'CSCI181U',\n",
              " 'CSCI181U',\n",
              " 'CSCI181UL',\n",
              " 'CSCI181V',\n",
              " 'CSCI181V',\n",
              " 'CSCI181W',\n",
              " 'CSCI181W',\n",
              " 'CSCI181X',\n",
              " 'CSCI181Y',\n",
              " 'CSCI181Z',\n",
              " 'CSCI183',\n",
              " 'CSCI184',\n",
              " 'CSCI186',\n",
              " 'CSCI188',\n",
              " 'CSCI189',\n",
              " 'CSCI190',\n",
              " 'CSCI191',\n",
              " 'CSCI191',\n",
              " 'CSCI192',\n",
              " 'CSCI195',\n",
              " 'CSCI199',\n",
              " 'CSCI199',\n",
              " 'CSCI199DR',\n",
              " 'CSCI199IR',\n",
              " 'CSCI199RA',\n",
              " 'CSMT181A',\n",
              " 'CSMT183',\n",
              " 'CSMT184',\n",
              " 'ID  009',\n",
              " 'IST 333',\n",
              " 'IST 334',\n",
              " 'IST 338',\n",
              " 'IST 370',\n",
              " 'MATH162',\n",
              " 'MCBI118A',\n",
              " 'MCBI118B',\n",
              " 'NEUR125L',\n",
              " 'PHIL163',\n",
              " 'PHYS108',\n",
              " 'PSYC183']"
            ]
          },
          "metadata": {},
          "execution_count": 25
        }
      ]
    },
    {
      "cell_type": "code",
      "execution_count": null,
      "id": "8797e97d",
      "metadata": {
        "id": "8797e97d"
      },
      "outputs": [],
      "source": [
        "# at some point deal with CSV import of data but not yet!\n",
        "\n",
        "coursesToDo = []\n",
        "coursesDone = []\n",
        "\n",
        "inputCourses = [\n",
        "    \"CSCI005\",\n",
        "    \"CSCI060\",\n",
        "    \"MATH019\"\n",
        "]\n",
        "\n",
        "majorReqs = [\n",
        "    {\"CSCI042\", \"CSCI060\"},\n",
        "    {\"CSCI070\"},\n",
        "    {\"CSCI081\"},\n",
        "]\n"
      ]
    },
    {
      "cell_type": "code",
      "execution_count": null,
      "id": "f0757dda",
      "metadata": {
        "id": "f0757dda"
      },
      "outputs": [],
      "source": [
        "def checkReqsMet(inputList, reqsList):\n",
        "    # inputList is a\n",
        "    # reqsList is a list of sets\n",
        "    for subset in reqsList:\n",
        "        met = any(course in subset for course in inputList)\n",
        "        if met:\n",
        "            coursesDone.append(subset)\n",
        "        else:\n",
        "            coursesToDo.append(subset)"
      ]
    },
    {
      "cell_type": "code",
      "execution_count": null,
      "id": "818181b9",
      "metadata": {
        "id": "818181b9",
        "outputId": "79ed390e-aad7-4cc3-c46d-2eb1ce14be1d"
      },
      "outputs": [
        {
          "name": "stdout",
          "output_type": "stream",
          "text": [
            "Courses Done is [{'CSCI060', 'CSCI042'}]\n",
            "Courses ToDo is [{'CSCI070'}, {'CSCI081'}]\n"
          ]
        }
      ],
      "source": [
        "coursesToDo = [] # emptied in case we rerun this cell\n",
        "coursesDone = [] # emptied in case we rerun this cell\n",
        "checkReqsMet(inputCourses, majorReqs)\n",
        "\n",
        "print(\"Courses Done is\", coursesDone)\n",
        "print(\"Courses ToDo is\", coursesToDo)"
      ]
    },
    {
      "cell_type": "code",
      "execution_count": null,
      "id": "1d4038c7",
      "metadata": {
        "id": "1d4038c7"
      },
      "outputs": [],
      "source": [
        "def formatReqsMet(toDoList, doneList):\n",
        "    toDoOutput =[]\n",
        "    doneOutput = []\n",
        "\n",
        "    for subset in toDoList:\n",
        "        if len(subset) == 1:\n",
        "            for x in subset:\n",
        "                toDoOutput.append(x)"
      ]
    }
  ],
  "metadata": {
    "kernelspec": {
      "display_name": "Python 3 (ipykernel)",
      "language": "python",
      "name": "python3"
    },
    "language_info": {
      "codemirror_mode": {
        "name": "ipython",
        "version": 3
      },
      "file_extension": ".py",
      "mimetype": "text/x-python",
      "name": "python",
      "nbconvert_exporter": "python",
      "pygments_lexer": "ipython3",
      "version": "3.8.8"
    },
    "colab": {
      "provenance": []
    }
  },
  "nbformat": 4,
  "nbformat_minor": 5
}