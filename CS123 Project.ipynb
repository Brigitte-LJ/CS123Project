{
  "cells": [
    {
      "cell_type": "markdown",
      "id": "29ab46aa",
      "metadata": {
        "id": "29ab46aa"
      },
      "source": [
        "Part 1: String Comparisons!\n",
        "Hello dear user, are you unsure if your classes meet graduation requiments? Do you not trust your massive Google Sheet combined with your own intuition? Well we have the tutorial for you! This part will allow you to compare your classes to your requirements with computational accuracy, so you will no longer have to put all your trust into checking and double checking and triple checking the lists yourself!\n",
        "\n",
        "This first set of code is where we input what we want to compare. If you want to check a single semester, or all four years, it is up to you! For our example we will be using a single semester, as you can see all four years of classes gets quite unrul"
      ]
    },
    {
      "cell_type": "code",
      "execution_count": 34,
      "id": "8797e97d",
      "metadata": {
        "id": "8797e97d"
      },
      "outputs": [],
      "source": [
        "import csv\n",
        "\n",
        "numTechElectives = 3 # how many tech electives are required?\n",
        "majorCSVpath = \"/content/CS_Major_Requirements\"\n",
        "\n",
        "majorReqs = []\n",
        "with open(majorCSVpath) as csvfile:\n",
        "    majorReader = csv.reader(csvfile)\n",
        "    next(majorReader)\n",
        "    i = 0\n",
        "    kernel = []\n",
        "    techElectives = []\n",
        "    for row in majorReader:\n",
        "      coursecode = row[2]\n",
        "      if row[1] == \"TechElective\":\n",
        "        techElectives.append(coursecode)\n",
        "      else:\n",
        "        if int(row[-1])==i: # our CSV data is a string, and \"0\" =/= 0\n",
        "          kernel.append(coursecode)\n",
        "        else:\n",
        "          majorReqs.append(kernel)\n",
        "          kernel = []\n",
        "          kernel.append(coursecode)\n",
        "          i +=1\n",
        "    for i in range(numTechElectives):\n",
        "      majorReqs.append(techElectives) # to capture Tech Electives at end of CSV"
      ]
    },
    {
      "cell_type": "code",
      "source": [
        "coursesToDo = []\n",
        "coursesDone = []\n",
        "\n",
        "inputCourses = [\n",
        "    \"CSCI005\",\n",
        "    \"CSCI060\",\n",
        "    \"MATH019\"\n",
        "]"
      ],
      "metadata": {
        "id": "LqKuCxjevJPj"
      },
      "id": "LqKuCxjevJPj",
      "execution_count": 36,
      "outputs": []
    },
    {
      "cell_type": "code",
      "execution_count": 37,
      "id": "f0757dda",
      "metadata": {
        "id": "f0757dda"
      },
      "outputs": [],
      "source": [
        "def checkReqsMet(inputList, reqsList):\n",
        "    # inputList is a flat list\n",
        "    # reqsList is a list of lists\n",
        "    for subset in reqsList:\n",
        "        met = any(course in subset for course in inputList)\n",
        "        if met:\n",
        "            coursesDone.append(subset)\n",
        "        else:\n",
        "            coursesToDo.append(subset)"
      ]
    },
    {
      "cell_type": "code",
      "execution_count": 38,
      "id": "818181b9",
      "metadata": {
        "colab": {
          "base_uri": "https://localhost:8080/"
        },
        "id": "818181b9",
        "outputId": "741af2e8-e196-48da-d81f-6ba89f5dd32e"
      },
      "outputs": [
        {
          "output_type": "stream",
          "name": "stdout",
          "text": [
            "Courses Done is [['CSCI042', 'CSCI060']]\n",
            "Courses ToDo is [['MATH055'], ['CSCI070'], ['CSCI081'], ['CSCI105'], ['CSCI123'], ['CSCI140'], ['CSCI183'], ['CSCI184'], ['CSCI195'], ['CSCI195'], ['CSCI195'], ['BIOL188', 'ENGR085', 'ENGR151', 'ENGR155', 'ENGR205', 'MATH104', 'MATH106', 'MATH157', 'MATH164', 'MATH165', 'MATH167', 'MATH187', 'MCBI118', 'PHYS084', 'PHYS170', 'PSYC183', 'CSCI111', 'CSCI121', 'CSCI124', 'CSCI125', 'CSCI131', 'CSCI132', 'CSCI133', 'CSCI134', 'CSCI137', 'CSCI142', 'CSCI144', 'CSCI145', 'CSCI151', 'CSCI152', 'CSCI153', 'CSCI155', 'CSCI158', 'CSCI159'], ['BIOL188', 'ENGR085', 'ENGR151', 'ENGR155', 'ENGR205', 'MATH104', 'MATH106', 'MATH157', 'MATH164', 'MATH165', 'MATH167', 'MATH187', 'MCBI118', 'PHYS084', 'PHYS170', 'PSYC183', 'CSCI111', 'CSCI121', 'CSCI124', 'CSCI125', 'CSCI131', 'CSCI132', 'CSCI133', 'CSCI134', 'CSCI137', 'CSCI142', 'CSCI144', 'CSCI145', 'CSCI151', 'CSCI152', 'CSCI153', 'CSCI155', 'CSCI158', 'CSCI159'], ['BIOL188', 'ENGR085', 'ENGR151', 'ENGR155', 'ENGR205', 'MATH104', 'MATH106', 'MATH157', 'MATH164', 'MATH165', 'MATH167', 'MATH187', 'MCBI118', 'PHYS084', 'PHYS170', 'PSYC183', 'CSCI111', 'CSCI121', 'CSCI124', 'CSCI125', 'CSCI131', 'CSCI132', 'CSCI133', 'CSCI134', 'CSCI137', 'CSCI142', 'CSCI144', 'CSCI145', 'CSCI151', 'CSCI152', 'CSCI153', 'CSCI155', 'CSCI158', 'CSCI159']]\n"
          ]
        }
      ],
      "source": [
        "coursesToDo = [] # emptied in case we rerun this cell\n",
        "coursesDone = [] # emptied in case we rerun this cell\n",
        "checkReqsMet(inputCourses, majorReqs)\n",
        "\n",
        "print(\"Courses Done is\", coursesDone)\n",
        "print(\"Courses ToDo is\", coursesToDo)"
      ]
    }
  ],
  "metadata": {
    "kernelspec": {
      "display_name": "Python 3 (ipykernel)",
      "language": "python",
      "name": "python3"
    },
    "language_info": {
      "codemirror_mode": {
        "name": "ipython",
        "version": 3
      },
      "file_extension": ".py",
      "mimetype": "text/x-python",
      "name": "python",
      "nbconvert_exporter": "python",
      "pygments_lexer": "ipython3",
      "version": "3.8.8"
    },
    "colab": {
      "provenance": []
    }
  },
  "nbformat": 4,
  "nbformat_minor": 5
}