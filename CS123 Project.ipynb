{
  "cells": [
    {
      "cell_type": "markdown",
      "id": "29ab46aa",
      "metadata": {
        "id": "29ab46aa"
      },
      "source": [
        "Part 1: String Comparisons!\n",
        "Hello dear user, are you unsure if your classes meet graduation requiments? Do you not trust your massive Google Sheet combined with your own intuition? Well we have the tutorial for you! This part will allow you to compare your classes to your requirements with computational accuracy, so you will no longer have to put all your trust into checking and double checking and triple checking the lists yourself!\n",
        "\n",
        "This first set of code is where we input what we want to compare. If you want to check a single semester, or all four years, it is up to you! For our example we will be using a single semester, as you can see all four years of classes gets quite unrul"
      ]
    },
    {
      "cell_type": "code",
      "execution_count": 45,
      "id": "8797e97d",
      "metadata": {
        "id": "8797e97d"
      },
      "outputs": [],
      "source": [
        "import csv\n",
        "\n",
        "numTechElectives = 3 # how many tech electives are required?\n",
        "majorCSVpath = \"/content/CS_Major_Requirements\""
      ]
    },
    {
      "cell_type": "code",
      "source": [
        "def csvToLoL(csvpath):\n",
        "  \"\"\" input: file path to a CSV of course requirements, CSV formatted as shown below\n",
        "              major\ttechel\tcoursecode\tsublist\n",
        "              CSCI  n       CSCI070     2\n",
        "              CSCI  y       MATH164     3\n",
        "\n",
        "      output: a list of lists, such that one course in each sublist must be taken\n",
        "            example: [[\"CSCI042, \"CSCI060\"], [\"CSCI070]]]\n",
        "            indicates requirement of (CS 42 OR CS 60) AND CS 70\n",
        "  \"\"\"\n",
        "  reqs = []\n",
        "  with open(csvpath) as f:\n",
        "    reader = csv.reader(f)\n",
        "    next(reader)\n",
        "    i=0\n",
        "    nonTechElectives = []\n",
        "    techElectives = []\n",
        "    for row in reader:\n",
        "      coursecode = row[2]\n",
        "      if row[1] == \"y\": # tech elective case\n",
        "        techElectives.append(coursecode)\n",
        "      else:\n",
        "        if int(row[-1])==i: # our CSV data is a string, and \"0\" =/= 0\n",
        "          nonTechElectives.append(coursecode)\n",
        "        else:\n",
        "          reqs.append(nonTechElectives)\n",
        "          nonTechElectives = []\n",
        "          nonTechElectives.append(coursecode)\n",
        "          i += 1\n",
        "    for i in range(numTechElectives):\n",
        "      reqs.append(techElectives) # deal with Tech Electives last\n",
        "    return reqs\n"
      ],
      "metadata": {
        "id": "U1O3wiE8x_YO"
      },
      "id": "U1O3wiE8x_YO",
      "execution_count": 46,
      "outputs": []
    },
    {
      "cell_type": "code",
      "source": [
        "majorReqs = csvToLoL(majorCSVpath)"
      ],
      "metadata": {
        "id": "L8pQZcyl5JGC",
        "outputId": "7a2a7594-fc5d-4f49-eb7b-acdafa3aea73",
        "colab": {
          "base_uri": "https://localhost:8080/"
        }
      },
      "id": "L8pQZcyl5JGC",
      "execution_count": 47,
      "outputs": [
        {
          "output_type": "stream",
          "name": "stdout",
          "text": [
            "[['CSCI042', 'CSCI060'], ['MATH055'], ['CSCI070'], ['CSCI081'], ['CSCI105'], ['CSCI123'], ['CSCI140'], ['CSCI183'], ['CSCI184'], ['CSCI195'], ['CSCI195'], ['CSCI195'], ['BIOL188', 'ENGR085', 'ENGR151', 'ENGR155', 'ENGR205', 'MATH104', 'MATH106', 'MATH157', 'MATH164', 'MATH165', 'MATH167', 'MATH187', 'MCBI118', 'PHYS084', 'PHYS170', 'PSYC183', 'CSCI111', 'CSCI121', 'CSCI124', 'CSCI125', 'CSCI131', 'CSCI132', 'CSCI133', 'CSCI134', 'CSCI137', 'CSCI142', 'CSCI144', 'CSCI145', 'CSCI151', 'CSCI152', 'CSCI153', 'CSCI155', 'CSCI158', 'CSCI159'], ['BIOL188', 'ENGR085', 'ENGR151', 'ENGR155', 'ENGR205', 'MATH104', 'MATH106', 'MATH157', 'MATH164', 'MATH165', 'MATH167', 'MATH187', 'MCBI118', 'PHYS084', 'PHYS170', 'PSYC183', 'CSCI111', 'CSCI121', 'CSCI124', 'CSCI125', 'CSCI131', 'CSCI132', 'CSCI133', 'CSCI134', 'CSCI137', 'CSCI142', 'CSCI144', 'CSCI145', 'CSCI151', 'CSCI152', 'CSCI153', 'CSCI155', 'CSCI158', 'CSCI159'], ['BIOL188', 'ENGR085', 'ENGR151', 'ENGR155', 'ENGR205', 'MATH104', 'MATH106', 'MATH157', 'MATH164', 'MATH165', 'MATH167', 'MATH187', 'MCBI118', 'PHYS084', 'PHYS170', 'PSYC183', 'CSCI111', 'CSCI121', 'CSCI124', 'CSCI125', 'CSCI131', 'CSCI132', 'CSCI133', 'CSCI134', 'CSCI137', 'CSCI142', 'CSCI144', 'CSCI145', 'CSCI151', 'CSCI152', 'CSCI153', 'CSCI155', 'CSCI158', 'CSCI159']]\n"
          ]
        }
      ]
    },
    {
      "cell_type": "code",
      "source": [
        "coursesToDo = []\n",
        "coursesDone = []\n",
        "\n",
        "inputCourses = [\n",
        "    \"CSCI005\",\n",
        "    \"CSCI060\",\n",
        "    \"MATH019\"\n",
        "]"
      ],
      "metadata": {
        "id": "LqKuCxjevJPj"
      },
      "id": "LqKuCxjevJPj",
      "execution_count": 36,
      "outputs": []
    },
    {
      "cell_type": "code",
      "execution_count": 37,
      "id": "f0757dda",
      "metadata": {
        "id": "f0757dda"
      },
      "outputs": [],
      "source": [
        "def checkReqsMet(inputList, reqsList):\n",
        "    # inputList is a flat list\n",
        "    # reqsList is a list of lists\n",
        "    for subset in reqsList:\n",
        "        met = any(course in subset for course in inputList)\n",
        "        if met:\n",
        "            coursesDone.append(subset)\n",
        "        else:\n",
        "            coursesToDo.append(subset)"
      ]
    },
    {
      "cell_type": "code",
      "execution_count": 38,
      "id": "818181b9",
      "metadata": {
        "colab": {
          "base_uri": "https://localhost:8080/"
        },
        "id": "818181b9",
        "outputId": "741af2e8-e196-48da-d81f-6ba89f5dd32e"
      },
      "outputs": [
        {
          "output_type": "stream",
          "name": "stdout",
          "text": [
            "Courses Done is [['CSCI042', 'CSCI060']]\n",
            "Courses ToDo is [['MATH055'], ['CSCI070'], ['CSCI081'], ['CSCI105'], ['CSCI123'], ['CSCI140'], ['CSCI183'], ['CSCI184'], ['CSCI195'], ['CSCI195'], ['CSCI195'], ['BIOL188', 'ENGR085', 'ENGR151', 'ENGR155', 'ENGR205', 'MATH104', 'MATH106', 'MATH157', 'MATH164', 'MATH165', 'MATH167', 'MATH187', 'MCBI118', 'PHYS084', 'PHYS170', 'PSYC183', 'CSCI111', 'CSCI121', 'CSCI124', 'CSCI125', 'CSCI131', 'CSCI132', 'CSCI133', 'CSCI134', 'CSCI137', 'CSCI142', 'CSCI144', 'CSCI145', 'CSCI151', 'CSCI152', 'CSCI153', 'CSCI155', 'CSCI158', 'CSCI159'], ['BIOL188', 'ENGR085', 'ENGR151', 'ENGR155', 'ENGR205', 'MATH104', 'MATH106', 'MATH157', 'MATH164', 'MATH165', 'MATH167', 'MATH187', 'MCBI118', 'PHYS084', 'PHYS170', 'PSYC183', 'CSCI111', 'CSCI121', 'CSCI124', 'CSCI125', 'CSCI131', 'CSCI132', 'CSCI133', 'CSCI134', 'CSCI137', 'CSCI142', 'CSCI144', 'CSCI145', 'CSCI151', 'CSCI152', 'CSCI153', 'CSCI155', 'CSCI158', 'CSCI159'], ['BIOL188', 'ENGR085', 'ENGR151', 'ENGR155', 'ENGR205', 'MATH104', 'MATH106', 'MATH157', 'MATH164', 'MATH165', 'MATH167', 'MATH187', 'MCBI118', 'PHYS084', 'PHYS170', 'PSYC183', 'CSCI111', 'CSCI121', 'CSCI124', 'CSCI125', 'CSCI131', 'CSCI132', 'CSCI133', 'CSCI134', 'CSCI137', 'CSCI142', 'CSCI144', 'CSCI145', 'CSCI151', 'CSCI152', 'CSCI153', 'CSCI155', 'CSCI158', 'CSCI159']]\n"
          ]
        }
      ],
      "source": [
        "coursesToDo = [] # emptied in case we rerun this cell\n",
        "coursesDone = [] # emptied in case we rerun this cell\n",
        "checkReqsMet(inputCourses, majorReqs)\n",
        "\n",
        "print(\"Courses Done is\", coursesDone)\n",
        "print(\"Courses ToDo is\", coursesToDo)"
      ]
    }
  ],
  "metadata": {
    "kernelspec": {
      "display_name": "Python 3 (ipykernel)",
      "language": "python",
      "name": "python3"
    },
    "language_info": {
      "codemirror_mode": {
        "name": "ipython",
        "version": 3
      },
      "file_extension": ".py",
      "mimetype": "text/x-python",
      "name": "python",
      "nbconvert_exporter": "python",
      "pygments_lexer": "ipython3",
      "version": "3.8.8"
    },
    "colab": {
      "provenance": []
    }
  },
  "nbformat": 4,
  "nbformat_minor": 5
}