{
 "cells": [
  {
   "cell_type": "markdown",
   "id": "29ab46aa",
   "metadata": {},
   "source": [
    "Part 1: String Comparisons!\n",
    "Hello dear user, are you unsure if your classes meet graduation requiments? Do you not trust your massive Google Sheet combined with your own intuition? Well we have the tutorial for you! This part will allow you to compare your classes to your requirements with computational accuracy, so you will no longer have to put all your trust into checking and double checking and triple checking the lists yourself!\n",
    "\n",
    "This first set of code is where we input what we want to compare. If you want to check a single semester, or all four years, it is up to you! For our example we will be using a single semester, as you can see all four years of classes gets quite unrul"
   ]
  },
  {
   "cell_type": "code",
   "execution_count": 1,
   "id": "8797e97d",
   "metadata": {},
   "outputs": [],
   "source": [
    "# at some point deal with CSV import of data but not yet!\n",
    "\n",
    "coursesToDo = []\n",
    "coursesDone = []\n",
    "\n",
    "inputCourses = [\n",
    "    \"CSCI005\",\n",
    "    \"CSCI060\",\n",
    "    \"MATH019\"\n",
    "]\n",
    "\n",
    "majorReqs = [\n",
    "    {\"CSCI042\", \"CSCI060\"},\n",
    "    {\"CSCI070\"},\n",
    "    {\"CSCI081\"},\n",
    "]\n"
   ]
  },
  {
   "cell_type": "code",
   "execution_count": 3,
   "id": "f0757dda",
   "metadata": {},
   "outputs": [],
   "source": [
    "def checkReqsMet(inputList, reqsList):\n",
    "    # inputList is a\n",
    "    # reqsList is a list of sets\n",
    "    for subset in reqsList:\n",
    "        met = any(course in subset for course in inputList)\n",
    "        if met:\n",
    "            coursesDone.append(subset)\n",
    "        else:\n",
    "            coursesToDo.append(subset)"
   ]
  },
  {
   "cell_type": "code",
   "execution_count": 4,
   "id": "818181b9",
   "metadata": {},
   "outputs": [
    {
     "name": "stdout",
     "output_type": "stream",
     "text": [
      "Courses Done is [{'CSCI060', 'CSCI042'}]\n",
      "Courses ToDo is [{'CSCI070'}, {'CSCI081'}]\n"
     ]
    }
   ],
   "source": [
    "coursesToDo = [] # emptied in case we rerun this cell\n",
    "coursesDone = [] # emptied in case we rerun this cell\n",
    "checkReqsMet(inputCourses, majorReqs)\n",
    "\n",
    "print(\"Courses Done is\", coursesDone)\n",
    "print(\"Courses ToDo is\", coursesToDo)"
   ]
  },
  {
   "cell_type": "code",
   "execution_count": 5,
   "id": "1d4038c7",
   "metadata": {},
   "outputs": [],
   "source": [
    "def formatReqsMet(toDoList, doneList):\n",
    "    toDoOutput =[]\n",
    "    doneOutput = []\n",
    "\n",
    "    for subset in toDoList:\n",
    "        if len(subset) == 1:\n",
    "            for x in subset:\n",
    "                toDoOutput.append(x)"
   ]
  }
 ],
 "metadata": {
  "kernelspec": {
   "display_name": "Python 3 (ipykernel)",
   "language": "python",
   "name": "python3"
  },
  "language_info": {
   "codemirror_mode": {
    "name": "ipython",
    "version": 3
   },
   "file_extension": ".py",
   "mimetype": "text/x-python",
   "name": "python",
   "nbconvert_exporter": "python",
   "pygments_lexer": "ipython3",
   "version": "3.8.8"
  }
 },
 "nbformat": 4,
 "nbformat_minor": 5
}
